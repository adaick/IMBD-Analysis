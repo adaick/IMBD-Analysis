{
 "cells": [
  {
   "cell_type": "code",
   "execution_count": 1,
   "metadata": {},
   "outputs": [],
   "source": [
    "import pandas as pd\n",
    "import numpy as np\n",
    "import nltk"
   ]
  },
  {
   "cell_type": "code",
   "execution_count": 2,
   "metadata": {},
   "outputs": [],
   "source": [
    "imbd_data = pd.read_csv('/Practice code/DataSets/IMDB Dataset.csv',nrows=10000)"
   ]
  },
  {
   "cell_type": "code",
   "execution_count": 3,
   "metadata": {},
   "outputs": [
    {
     "data": {
      "text/html": [
       "<div>\n",
       "<style scoped>\n",
       "    .dataframe tbody tr th:only-of-type {\n",
       "        vertical-align: middle;\n",
       "    }\n",
       "\n",
       "    .dataframe tbody tr th {\n",
       "        vertical-align: top;\n",
       "    }\n",
       "\n",
       "    .dataframe thead th {\n",
       "        text-align: right;\n",
       "    }\n",
       "</style>\n",
       "<table border=\"1\" class=\"dataframe\">\n",
       "  <thead>\n",
       "    <tr style=\"text-align: right;\">\n",
       "      <th></th>\n",
       "      <th>review</th>\n",
       "      <th>sentiment</th>\n",
       "    </tr>\n",
       "  </thead>\n",
       "  <tbody>\n",
       "    <tr>\n",
       "      <th>0</th>\n",
       "      <td>One of the other reviewers has mentioned that ...</td>\n",
       "      <td>positive</td>\n",
       "    </tr>\n",
       "    <tr>\n",
       "      <th>1</th>\n",
       "      <td>A wonderful little production. &lt;br /&gt;&lt;br /&gt;The...</td>\n",
       "      <td>positive</td>\n",
       "    </tr>\n",
       "    <tr>\n",
       "      <th>2</th>\n",
       "      <td>I thought this was a wonderful way to spend ti...</td>\n",
       "      <td>positive</td>\n",
       "    </tr>\n",
       "    <tr>\n",
       "      <th>3</th>\n",
       "      <td>Basically there's a family where a little boy ...</td>\n",
       "      <td>negative</td>\n",
       "    </tr>\n",
       "    <tr>\n",
       "      <th>4</th>\n",
       "      <td>Petter Mattei's \"Love in the Time of Money\" is...</td>\n",
       "      <td>positive</td>\n",
       "    </tr>\n",
       "  </tbody>\n",
       "</table>\n",
       "</div>"
      ],
      "text/plain": [
       "                                              review sentiment\n",
       "0  One of the other reviewers has mentioned that ...  positive\n",
       "1  A wonderful little production. <br /><br />The...  positive\n",
       "2  I thought this was a wonderful way to spend ti...  positive\n",
       "3  Basically there's a family where a little boy ...  negative\n",
       "4  Petter Mattei's \"Love in the Time of Money\" is...  positive"
      ]
     },
     "execution_count": 3,
     "metadata": {},
     "output_type": "execute_result"
    }
   ],
   "source": [
    "imbd_data.head()"
   ]
  },
  {
   "cell_type": "code",
   "execution_count": 4,
   "metadata": {},
   "outputs": [
    {
     "data": {
      "text/plain": [
       "(10000, 2)"
      ]
     },
     "execution_count": 4,
     "metadata": {},
     "output_type": "execute_result"
    }
   ],
   "source": [
    "imbd_data.shape"
   ]
  },
  {
   "cell_type": "code",
   "execution_count": 5,
   "metadata": {},
   "outputs": [
    {
     "name": "stdout",
     "output_type": "stream",
     "text": [
      "<class 'pandas.core.frame.DataFrame'>\n",
      "RangeIndex: 10000 entries, 0 to 9999\n",
      "Data columns (total 2 columns):\n",
      " #   Column     Non-Null Count  Dtype \n",
      "---  ------     --------------  ----- \n",
      " 0   review     10000 non-null  object\n",
      " 1   sentiment  10000 non-null  object\n",
      "dtypes: object(2)\n",
      "memory usage: 156.4+ KB\n"
     ]
    }
   ],
   "source": [
    "imbd_data.info()"
   ]
  },
  {
   "cell_type": "markdown",
   "metadata": {},
   "source": [
    "# Text Preprocessing\n",
    "\n",
    "## Removing Punctuations, Numbers, and Special Characters"
   ]
  },
  {
   "cell_type": "code",
   "execution_count": 6,
   "metadata": {},
   "outputs": [],
   "source": [
    "import re"
   ]
  },
  {
   "cell_type": "code",
   "execution_count": 7,
   "metadata": {},
   "outputs": [],
   "source": [
    "def data_cleaning(text):\n",
    "    clean_text = re.sub('[^A-Za-z]+',\" \",text)\n",
    "    return clean_text"
   ]
  },
  {
   "cell_type": "code",
   "execution_count": 8,
   "metadata": {},
   "outputs": [],
   "source": [
    "imbd_data['clean_review'] = imbd_data['review'].apply(lambda text : data_cleaning(text))"
   ]
  },
  {
   "cell_type": "code",
   "execution_count": 9,
   "metadata": {},
   "outputs": [
    {
     "data": {
      "text/plain": [
       "0       One of the other reviewers has mentioned that ...\n",
       "1       A wonderful little production br br The filmin...\n",
       "2       I thought this was a wonderful way to spend ti...\n",
       "3       Basically there s a family where a little boy ...\n",
       "4       Petter Mattei s Love in the Time of Money is a...\n",
       "                              ...                        \n",
       "9995    Fun entertaining movie about WWII German spy J...\n",
       "9996    Give me a break How can anyone say that this i...\n",
       "9997    This movie is a bad movie But after watching a...\n",
       "9998    This is a movie that was probably made to ente...\n",
       "9999    Smashing film about film making Shows the inte...\n",
       "Name: clean_review, Length: 10000, dtype: object"
      ]
     },
     "execution_count": 9,
     "metadata": {},
     "output_type": "execute_result"
    }
   ],
   "source": [
    "imbd_data['clean_review']"
   ]
  },
  {
   "cell_type": "markdown",
   "metadata": {},
   "source": [
    "## converting clean_review to lower case"
   ]
  },
  {
   "cell_type": "code",
   "execution_count": 10,
   "metadata": {},
   "outputs": [],
   "source": [
    "imbd_data['clean_review'] = imbd_data['clean_review'].apply(lambda text : text.lower())"
   ]
  },
  {
   "cell_type": "code",
   "execution_count": 11,
   "metadata": {},
   "outputs": [
    {
     "data": {
      "text/plain": [
       "0       one of the other reviewers has mentioned that ...\n",
       "1       a wonderful little production br br the filmin...\n",
       "2       i thought this was a wonderful way to spend ti...\n",
       "3       basically there s a family where a little boy ...\n",
       "4       petter mattei s love in the time of money is a...\n",
       "                              ...                        \n",
       "9995    fun entertaining movie about wwii german spy j...\n",
       "9996    give me a break how can anyone say that this i...\n",
       "9997    this movie is a bad movie but after watching a...\n",
       "9998    this is a movie that was probably made to ente...\n",
       "9999    smashing film about film making shows the inte...\n",
       "Name: clean_review, Length: 10000, dtype: object"
      ]
     },
     "execution_count": 11,
     "metadata": {},
     "output_type": "execute_result"
    }
   ],
   "source": [
    "imbd_data['clean_review']"
   ]
  },
  {
   "cell_type": "markdown",
   "metadata": {},
   "source": [
    "## Tokenization"
   ]
  },
  {
   "cell_type": "code",
   "execution_count": 12,
   "metadata": {},
   "outputs": [],
   "source": [
    "imbd_data['review_token'] = imbd_data['clean_review'].apply(lambda text : text.split())"
   ]
  },
  {
   "cell_type": "code",
   "execution_count": 13,
   "metadata": {},
   "outputs": [
    {
     "data": {
      "text/plain": [
       "0       [one, of, the, other, reviewers, has, mentione...\n",
       "1       [a, wonderful, little, production, br, br, the...\n",
       "2       [i, thought, this, was, a, wonderful, way, to,...\n",
       "3       [basically, there, s, a, family, where, a, lit...\n",
       "4       [petter, mattei, s, love, in, the, time, of, m...\n",
       "                              ...                        \n",
       "9995    [fun, entertaining, movie, about, wwii, german...\n",
       "9996    [give, me, a, break, how, can, anyone, say, th...\n",
       "9997    [this, movie, is, a, bad, movie, but, after, w...\n",
       "9998    [this, is, a, movie, that, was, probably, made...\n",
       "9999    [smashing, film, about, film, making, shows, t...\n",
       "Name: review_token, Length: 10000, dtype: object"
      ]
     },
     "execution_count": 13,
     "metadata": {},
     "output_type": "execute_result"
    }
   ],
   "source": [
    "imbd_data['review_token']"
   ]
  },
  {
   "cell_type": "markdown",
   "metadata": {},
   "source": [
    "## Removal of Stop words"
   ]
  },
  {
   "cell_type": "code",
   "execution_count": 14,
   "metadata": {},
   "outputs": [
    {
     "name": "stdout",
     "output_type": "stream",
     "text": [
      "[nltk_data] Downloading package stopwords to\n",
      "[nltk_data]     C:\\Users\\adars\\AppData\\Roaming\\nltk_data...\n",
      "[nltk_data]   Package stopwords is already up-to-date!\n"
     ]
    }
   ],
   "source": [
    "nltk.download('stopwords')\n",
    "from nltk.corpus import stopwords"
   ]
  },
  {
   "cell_type": "code",
   "execution_count": 15,
   "metadata": {},
   "outputs": [],
   "source": [
    "stop_words = stopwords.words('english')\n",
    "\n",
    "imbd_data['review_token'] = imbd_data['review_token'].apply(lambda token_text:[word for word in token_text if word not in stop_words])"
   ]
  },
  {
   "cell_type": "code",
   "execution_count": 16,
   "metadata": {},
   "outputs": [
    {
     "data": {
      "text/plain": [
       "0       [one, reviewers, mentioned, watching, oz, epis...\n",
       "1       [wonderful, little, production, br, br, filmin...\n",
       "2       [thought, wonderful, way, spend, time, hot, su...\n",
       "3       [basically, family, little, boy, jake, thinks,...\n",
       "4       [petter, mattei, love, time, money, visually, ...\n",
       "                              ...                        \n",
       "9995    [fun, entertaining, movie, wwii, german, spy, ...\n",
       "9996    [give, break, anyone, say, good, hockey, movie...\n",
       "9997    [movie, bad, movie, watching, endless, series,...\n",
       "9998    [movie, probably, made, entertain, middle, sch...\n",
       "9999    [smashing, film, film, making, shows, intense,...\n",
       "Name: review_token, Length: 10000, dtype: object"
      ]
     },
     "execution_count": 16,
     "metadata": {},
     "output_type": "execute_result"
    }
   ],
   "source": [
    "imbd_data['review_token']"
   ]
  },
  {
   "cell_type": "markdown",
   "metadata": {},
   "source": [
    "## Text Normalization\n",
    "\n",
    "### a.     Stemming\n",
    "\n"
   ]
  },
  {
   "cell_type": "code",
   "execution_count": 17,
   "metadata": {},
   "outputs": [],
   "source": [
    "from nltk.stem import PorterStemmer    \n",
    "ps = PorterStemmer()"
   ]
  },
  {
   "cell_type": "code",
   "execution_count": 18,
   "metadata": {},
   "outputs": [
    {
     "data": {
      "text/html": [
       "<div>\n",
       "<style scoped>\n",
       "    .dataframe tbody tr th:only-of-type {\n",
       "        vertical-align: middle;\n",
       "    }\n",
       "\n",
       "    .dataframe tbody tr th {\n",
       "        vertical-align: top;\n",
       "    }\n",
       "\n",
       "    .dataframe thead th {\n",
       "        text-align: right;\n",
       "    }\n",
       "</style>\n",
       "<table border=\"1\" class=\"dataframe\">\n",
       "  <thead>\n",
       "    <tr style=\"text-align: right;\">\n",
       "      <th></th>\n",
       "      <th>review</th>\n",
       "      <th>sentiment</th>\n",
       "      <th>clean_review</th>\n",
       "      <th>review_token</th>\n",
       "      <th>stem_text</th>\n",
       "    </tr>\n",
       "  </thead>\n",
       "  <tbody>\n",
       "    <tr>\n",
       "      <th>0</th>\n",
       "      <td>One of the other reviewers has mentioned that ...</td>\n",
       "      <td>positive</td>\n",
       "      <td>one of the other reviewers has mentioned that ...</td>\n",
       "      <td>[one, reviewers, mentioned, watching, oz, epis...</td>\n",
       "      <td>[one, review, mention, watch, oz, episod, hook...</td>\n",
       "    </tr>\n",
       "    <tr>\n",
       "      <th>1</th>\n",
       "      <td>A wonderful little production. &lt;br /&gt;&lt;br /&gt;The...</td>\n",
       "      <td>positive</td>\n",
       "      <td>a wonderful little production br br the filmin...</td>\n",
       "      <td>[wonderful, little, production, br, br, filmin...</td>\n",
       "      <td>[wonder, littl, product, br, br, film, techniq...</td>\n",
       "    </tr>\n",
       "    <tr>\n",
       "      <th>2</th>\n",
       "      <td>I thought this was a wonderful way to spend ti...</td>\n",
       "      <td>positive</td>\n",
       "      <td>i thought this was a wonderful way to spend ti...</td>\n",
       "      <td>[thought, wonderful, way, spend, time, hot, su...</td>\n",
       "      <td>[thought, wonder, way, spend, time, hot, summe...</td>\n",
       "    </tr>\n",
       "    <tr>\n",
       "      <th>3</th>\n",
       "      <td>Basically there's a family where a little boy ...</td>\n",
       "      <td>negative</td>\n",
       "      <td>basically there s a family where a little boy ...</td>\n",
       "      <td>[basically, family, little, boy, jake, thinks,...</td>\n",
       "      <td>[basic, famili, littl, boy, jake, think, zombi...</td>\n",
       "    </tr>\n",
       "    <tr>\n",
       "      <th>4</th>\n",
       "      <td>Petter Mattei's \"Love in the Time of Money\" is...</td>\n",
       "      <td>positive</td>\n",
       "      <td>petter mattei s love in the time of money is a...</td>\n",
       "      <td>[petter, mattei, love, time, money, visually, ...</td>\n",
       "      <td>[petter, mattei, love, time, money, visual, st...</td>\n",
       "    </tr>\n",
       "    <tr>\n",
       "      <th>...</th>\n",
       "      <td>...</td>\n",
       "      <td>...</td>\n",
       "      <td>...</td>\n",
       "      <td>...</td>\n",
       "      <td>...</td>\n",
       "    </tr>\n",
       "    <tr>\n",
       "      <th>9995</th>\n",
       "      <td>Fun, entertaining movie about WWII German spy ...</td>\n",
       "      <td>positive</td>\n",
       "      <td>fun entertaining movie about wwii german spy j...</td>\n",
       "      <td>[fun, entertaining, movie, wwii, german, spy, ...</td>\n",
       "      <td>[fun, entertain, movi, wwii, german, spi, juli...</td>\n",
       "    </tr>\n",
       "    <tr>\n",
       "      <th>9996</th>\n",
       "      <td>Give me a break. How can anyone say that this ...</td>\n",
       "      <td>negative</td>\n",
       "      <td>give me a break how can anyone say that this i...</td>\n",
       "      <td>[give, break, anyone, say, good, hockey, movie...</td>\n",
       "      <td>[give, break, anyon, say, good, hockey, movi, ...</td>\n",
       "    </tr>\n",
       "    <tr>\n",
       "      <th>9997</th>\n",
       "      <td>This movie is a bad movie. But after watching ...</td>\n",
       "      <td>negative</td>\n",
       "      <td>this movie is a bad movie but after watching a...</td>\n",
       "      <td>[movie, bad, movie, watching, endless, series,...</td>\n",
       "      <td>[movi, bad, movi, watch, endless, seri, bad, h...</td>\n",
       "    </tr>\n",
       "    <tr>\n",
       "      <th>9998</th>\n",
       "      <td>This is a movie that was probably made to ente...</td>\n",
       "      <td>negative</td>\n",
       "      <td>this is a movie that was probably made to ente...</td>\n",
       "      <td>[movie, probably, made, entertain, middle, sch...</td>\n",
       "      <td>[movi, probabl, made, entertain, middl, school...</td>\n",
       "    </tr>\n",
       "    <tr>\n",
       "      <th>9999</th>\n",
       "      <td>Smashing film about film-making. Shows the int...</td>\n",
       "      <td>positive</td>\n",
       "      <td>smashing film about film making shows the inte...</td>\n",
       "      <td>[smashing, film, film, making, shows, intense,...</td>\n",
       "      <td>[smash, film, film, make, show, intens, strang...</td>\n",
       "    </tr>\n",
       "  </tbody>\n",
       "</table>\n",
       "<p>10000 rows × 5 columns</p>\n",
       "</div>"
      ],
      "text/plain": [
       "                                                 review sentiment  \\\n",
       "0     One of the other reviewers has mentioned that ...  positive   \n",
       "1     A wonderful little production. <br /><br />The...  positive   \n",
       "2     I thought this was a wonderful way to spend ti...  positive   \n",
       "3     Basically there's a family where a little boy ...  negative   \n",
       "4     Petter Mattei's \"Love in the Time of Money\" is...  positive   \n",
       "...                                                 ...       ...   \n",
       "9995  Fun, entertaining movie about WWII German spy ...  positive   \n",
       "9996  Give me a break. How can anyone say that this ...  negative   \n",
       "9997  This movie is a bad movie. But after watching ...  negative   \n",
       "9998  This is a movie that was probably made to ente...  negative   \n",
       "9999  Smashing film about film-making. Shows the int...  positive   \n",
       "\n",
       "                                           clean_review  \\\n",
       "0     one of the other reviewers has mentioned that ...   \n",
       "1     a wonderful little production br br the filmin...   \n",
       "2     i thought this was a wonderful way to spend ti...   \n",
       "3     basically there s a family where a little boy ...   \n",
       "4     petter mattei s love in the time of money is a...   \n",
       "...                                                 ...   \n",
       "9995  fun entertaining movie about wwii german spy j...   \n",
       "9996  give me a break how can anyone say that this i...   \n",
       "9997  this movie is a bad movie but after watching a...   \n",
       "9998  this is a movie that was probably made to ente...   \n",
       "9999  smashing film about film making shows the inte...   \n",
       "\n",
       "                                           review_token  \\\n",
       "0     [one, reviewers, mentioned, watching, oz, epis...   \n",
       "1     [wonderful, little, production, br, br, filmin...   \n",
       "2     [thought, wonderful, way, spend, time, hot, su...   \n",
       "3     [basically, family, little, boy, jake, thinks,...   \n",
       "4     [petter, mattei, love, time, money, visually, ...   \n",
       "...                                                 ...   \n",
       "9995  [fun, entertaining, movie, wwii, german, spy, ...   \n",
       "9996  [give, break, anyone, say, good, hockey, movie...   \n",
       "9997  [movie, bad, movie, watching, endless, series,...   \n",
       "9998  [movie, probably, made, entertain, middle, sch...   \n",
       "9999  [smashing, film, film, making, shows, intense,...   \n",
       "\n",
       "                                              stem_text  \n",
       "0     [one, review, mention, watch, oz, episod, hook...  \n",
       "1     [wonder, littl, product, br, br, film, techniq...  \n",
       "2     [thought, wonder, way, spend, time, hot, summe...  \n",
       "3     [basic, famili, littl, boy, jake, think, zombi...  \n",
       "4     [petter, mattei, love, time, money, visual, st...  \n",
       "...                                                 ...  \n",
       "9995  [fun, entertain, movi, wwii, german, spi, juli...  \n",
       "9996  [give, break, anyon, say, good, hockey, movi, ...  \n",
       "9997  [movi, bad, movi, watch, endless, seri, bad, h...  \n",
       "9998  [movi, probabl, made, entertain, middl, school...  \n",
       "9999  [smash, film, film, make, show, intens, strang...  \n",
       "\n",
       "[10000 rows x 5 columns]"
      ]
     },
     "execution_count": 18,
     "metadata": {},
     "output_type": "execute_result"
    }
   ],
   "source": [
    "imbd_data['stem_text'] = imbd_data['review_token'].apply(lambda text: [ps.stem(word) for word in text]) # stemming\n",
    "imbd_data"
   ]
  },
  {
   "cell_type": "markdown",
   "metadata": {},
   "source": [
    "### b.     Lemmatization"
   ]
  },
  {
   "cell_type": "code",
   "execution_count": 19,
   "metadata": {},
   "outputs": [
    {
     "name": "stdout",
     "output_type": "stream",
     "text": [
      "[nltk_data] Downloading package wordnet to\n",
      "[nltk_data]     C:\\Users\\adars\\AppData\\Roaming\\nltk_data...\n",
      "[nltk_data]   Package wordnet is already up-to-date!\n"
     ]
    }
   ],
   "source": [
    "from nltk.stem import WordNetLemmatizer\n",
    "nltk.download('wordnet')\n",
    "\n",
    "wl=WordNetLemmatizer()"
   ]
  },
  {
   "cell_type": "code",
   "execution_count": 20,
   "metadata": {},
   "outputs": [
    {
     "data": {
      "text/html": [
       "<div>\n",
       "<style scoped>\n",
       "    .dataframe tbody tr th:only-of-type {\n",
       "        vertical-align: middle;\n",
       "    }\n",
       "\n",
       "    .dataframe tbody tr th {\n",
       "        vertical-align: top;\n",
       "    }\n",
       "\n",
       "    .dataframe thead th {\n",
       "        text-align: right;\n",
       "    }\n",
       "</style>\n",
       "<table border=\"1\" class=\"dataframe\">\n",
       "  <thead>\n",
       "    <tr style=\"text-align: right;\">\n",
       "      <th></th>\n",
       "      <th>review</th>\n",
       "      <th>sentiment</th>\n",
       "      <th>clean_review</th>\n",
       "      <th>review_token</th>\n",
       "      <th>stem_text</th>\n",
       "      <th>lemma_text</th>\n",
       "    </tr>\n",
       "  </thead>\n",
       "  <tbody>\n",
       "    <tr>\n",
       "      <th>0</th>\n",
       "      <td>One of the other reviewers has mentioned that ...</td>\n",
       "      <td>positive</td>\n",
       "      <td>one of the other reviewers has mentioned that ...</td>\n",
       "      <td>[one, reviewers, mentioned, watching, oz, epis...</td>\n",
       "      <td>[one, review, mention, watch, oz, episod, hook...</td>\n",
       "      <td>[one, reviewers, mention, watch, oz, episode, ...</td>\n",
       "    </tr>\n",
       "    <tr>\n",
       "      <th>1</th>\n",
       "      <td>A wonderful little production. &lt;br /&gt;&lt;br /&gt;The...</td>\n",
       "      <td>positive</td>\n",
       "      <td>a wonderful little production br br the filmin...</td>\n",
       "      <td>[wonderful, little, production, br, br, filmin...</td>\n",
       "      <td>[wonder, littl, product, br, br, film, techniq...</td>\n",
       "      <td>[wonderful, little, production, br, br, film, ...</td>\n",
       "    </tr>\n",
       "    <tr>\n",
       "      <th>2</th>\n",
       "      <td>I thought this was a wonderful way to spend ti...</td>\n",
       "      <td>positive</td>\n",
       "      <td>i thought this was a wonderful way to spend ti...</td>\n",
       "      <td>[thought, wonderful, way, spend, time, hot, su...</td>\n",
       "      <td>[thought, wonder, way, spend, time, hot, summe...</td>\n",
       "      <td>[think, wonderful, way, spend, time, hot, summ...</td>\n",
       "    </tr>\n",
       "    <tr>\n",
       "      <th>3</th>\n",
       "      <td>Basically there's a family where a little boy ...</td>\n",
       "      <td>negative</td>\n",
       "      <td>basically there s a family where a little boy ...</td>\n",
       "      <td>[basically, family, little, boy, jake, thinks,...</td>\n",
       "      <td>[basic, famili, littl, boy, jake, think, zombi...</td>\n",
       "      <td>[basically, family, little, boy, jake, think, ...</td>\n",
       "    </tr>\n",
       "    <tr>\n",
       "      <th>4</th>\n",
       "      <td>Petter Mattei's \"Love in the Time of Money\" is...</td>\n",
       "      <td>positive</td>\n",
       "      <td>petter mattei s love in the time of money is a...</td>\n",
       "      <td>[petter, mattei, love, time, money, visually, ...</td>\n",
       "      <td>[petter, mattei, love, time, money, visual, st...</td>\n",
       "      <td>[petter, mattei, love, time, money, visually, ...</td>\n",
       "    </tr>\n",
       "    <tr>\n",
       "      <th>...</th>\n",
       "      <td>...</td>\n",
       "      <td>...</td>\n",
       "      <td>...</td>\n",
       "      <td>...</td>\n",
       "      <td>...</td>\n",
       "      <td>...</td>\n",
       "    </tr>\n",
       "    <tr>\n",
       "      <th>9995</th>\n",
       "      <td>Fun, entertaining movie about WWII German spy ...</td>\n",
       "      <td>positive</td>\n",
       "      <td>fun entertaining movie about wwii german spy j...</td>\n",
       "      <td>[fun, entertaining, movie, wwii, german, spy, ...</td>\n",
       "      <td>[fun, entertain, movi, wwii, german, spi, juli...</td>\n",
       "      <td>[fun, entertain, movie, wwii, german, spy, jul...</td>\n",
       "    </tr>\n",
       "    <tr>\n",
       "      <th>9996</th>\n",
       "      <td>Give me a break. How can anyone say that this ...</td>\n",
       "      <td>negative</td>\n",
       "      <td>give me a break how can anyone say that this i...</td>\n",
       "      <td>[give, break, anyone, say, good, hockey, movie...</td>\n",
       "      <td>[give, break, anyon, say, good, hockey, movi, ...</td>\n",
       "      <td>[give, break, anyone, say, good, hockey, movie...</td>\n",
       "    </tr>\n",
       "    <tr>\n",
       "      <th>9997</th>\n",
       "      <td>This movie is a bad movie. But after watching ...</td>\n",
       "      <td>negative</td>\n",
       "      <td>this movie is a bad movie but after watching a...</td>\n",
       "      <td>[movie, bad, movie, watching, endless, series,...</td>\n",
       "      <td>[movi, bad, movi, watch, endless, seri, bad, h...</td>\n",
       "      <td>[movie, bad, movie, watch, endless, series, ba...</td>\n",
       "    </tr>\n",
       "    <tr>\n",
       "      <th>9998</th>\n",
       "      <td>This is a movie that was probably made to ente...</td>\n",
       "      <td>negative</td>\n",
       "      <td>this is a movie that was probably made to ente...</td>\n",
       "      <td>[movie, probably, made, entertain, middle, sch...</td>\n",
       "      <td>[movi, probabl, made, entertain, middl, school...</td>\n",
       "      <td>[movie, probably, make, entertain, middle, sch...</td>\n",
       "    </tr>\n",
       "    <tr>\n",
       "      <th>9999</th>\n",
       "      <td>Smashing film about film-making. Shows the int...</td>\n",
       "      <td>positive</td>\n",
       "      <td>smashing film about film making shows the inte...</td>\n",
       "      <td>[smashing, film, film, making, shows, intense,...</td>\n",
       "      <td>[smash, film, film, make, show, intens, strang...</td>\n",
       "      <td>[smash, film, film, make, show, intense, stran...</td>\n",
       "    </tr>\n",
       "  </tbody>\n",
       "</table>\n",
       "<p>10000 rows × 6 columns</p>\n",
       "</div>"
      ],
      "text/plain": [
       "                                                 review sentiment  \\\n",
       "0     One of the other reviewers has mentioned that ...  positive   \n",
       "1     A wonderful little production. <br /><br />The...  positive   \n",
       "2     I thought this was a wonderful way to spend ti...  positive   \n",
       "3     Basically there's a family where a little boy ...  negative   \n",
       "4     Petter Mattei's \"Love in the Time of Money\" is...  positive   \n",
       "...                                                 ...       ...   \n",
       "9995  Fun, entertaining movie about WWII German spy ...  positive   \n",
       "9996  Give me a break. How can anyone say that this ...  negative   \n",
       "9997  This movie is a bad movie. But after watching ...  negative   \n",
       "9998  This is a movie that was probably made to ente...  negative   \n",
       "9999  Smashing film about film-making. Shows the int...  positive   \n",
       "\n",
       "                                           clean_review  \\\n",
       "0     one of the other reviewers has mentioned that ...   \n",
       "1     a wonderful little production br br the filmin...   \n",
       "2     i thought this was a wonderful way to spend ti...   \n",
       "3     basically there s a family where a little boy ...   \n",
       "4     petter mattei s love in the time of money is a...   \n",
       "...                                                 ...   \n",
       "9995  fun entertaining movie about wwii german spy j...   \n",
       "9996  give me a break how can anyone say that this i...   \n",
       "9997  this movie is a bad movie but after watching a...   \n",
       "9998  this is a movie that was probably made to ente...   \n",
       "9999  smashing film about film making shows the inte...   \n",
       "\n",
       "                                           review_token  \\\n",
       "0     [one, reviewers, mentioned, watching, oz, epis...   \n",
       "1     [wonderful, little, production, br, br, filmin...   \n",
       "2     [thought, wonderful, way, spend, time, hot, su...   \n",
       "3     [basically, family, little, boy, jake, thinks,...   \n",
       "4     [petter, mattei, love, time, money, visually, ...   \n",
       "...                                                 ...   \n",
       "9995  [fun, entertaining, movie, wwii, german, spy, ...   \n",
       "9996  [give, break, anyone, say, good, hockey, movie...   \n",
       "9997  [movie, bad, movie, watching, endless, series,...   \n",
       "9998  [movie, probably, made, entertain, middle, sch...   \n",
       "9999  [smashing, film, film, making, shows, intense,...   \n",
       "\n",
       "                                              stem_text  \\\n",
       "0     [one, review, mention, watch, oz, episod, hook...   \n",
       "1     [wonder, littl, product, br, br, film, techniq...   \n",
       "2     [thought, wonder, way, spend, time, hot, summe...   \n",
       "3     [basic, famili, littl, boy, jake, think, zombi...   \n",
       "4     [petter, mattei, love, time, money, visual, st...   \n",
       "...                                                 ...   \n",
       "9995  [fun, entertain, movi, wwii, german, spi, juli...   \n",
       "9996  [give, break, anyon, say, good, hockey, movi, ...   \n",
       "9997  [movi, bad, movi, watch, endless, seri, bad, h...   \n",
       "9998  [movi, probabl, made, entertain, middl, school...   \n",
       "9999  [smash, film, film, make, show, intens, strang...   \n",
       "\n",
       "                                             lemma_text  \n",
       "0     [one, reviewers, mention, watch, oz, episode, ...  \n",
       "1     [wonderful, little, production, br, br, film, ...  \n",
       "2     [think, wonderful, way, spend, time, hot, summ...  \n",
       "3     [basically, family, little, boy, jake, think, ...  \n",
       "4     [petter, mattei, love, time, money, visually, ...  \n",
       "...                                                 ...  \n",
       "9995  [fun, entertain, movie, wwii, german, spy, jul...  \n",
       "9996  [give, break, anyone, say, good, hockey, movie...  \n",
       "9997  [movie, bad, movie, watch, endless, series, ba...  \n",
       "9998  [movie, probably, make, entertain, middle, sch...  \n",
       "9999  [smash, film, film, make, show, intense, stran...  \n",
       "\n",
       "[10000 rows x 6 columns]"
      ]
     },
     "execution_count": 20,
     "metadata": {},
     "output_type": "execute_result"
    }
   ],
   "source": [
    "imbd_data['lemma_text'] = imbd_data['review_token'].apply(lambda review_token : [wl.lemmatize(word,pos='v') for word in review_token])\n",
    "\n",
    "imbd_data"
   ]
  },
  {
   "cell_type": "markdown",
   "metadata": {},
   "source": [
    "## Joining of text"
   ]
  },
  {
   "cell_type": "code",
   "execution_count": 21,
   "metadata": {},
   "outputs": [],
   "source": [
    "imbd_data['stem_text'] = imbd_data['stem_text'].apply(lambda x: ' '.join(x))"
   ]
  },
  {
   "cell_type": "code",
   "execution_count": 22,
   "metadata": {},
   "outputs": [],
   "source": [
    "imbd_data['lemma_text'] = imbd_data['lemma_text'].apply(lambda x: ' '.join(x))"
   ]
  },
  {
   "cell_type": "code",
   "execution_count": 23,
   "metadata": {},
   "outputs": [
    {
     "data": {
      "text/html": [
       "<div>\n",
       "<style scoped>\n",
       "    .dataframe tbody tr th:only-of-type {\n",
       "        vertical-align: middle;\n",
       "    }\n",
       "\n",
       "    .dataframe tbody tr th {\n",
       "        vertical-align: top;\n",
       "    }\n",
       "\n",
       "    .dataframe thead th {\n",
       "        text-align: right;\n",
       "    }\n",
       "</style>\n",
       "<table border=\"1\" class=\"dataframe\">\n",
       "  <thead>\n",
       "    <tr style=\"text-align: right;\">\n",
       "      <th></th>\n",
       "      <th>review</th>\n",
       "      <th>sentiment</th>\n",
       "      <th>clean_review</th>\n",
       "      <th>review_token</th>\n",
       "      <th>stem_text</th>\n",
       "      <th>lemma_text</th>\n",
       "    </tr>\n",
       "  </thead>\n",
       "  <tbody>\n",
       "    <tr>\n",
       "      <th>0</th>\n",
       "      <td>One of the other reviewers has mentioned that ...</td>\n",
       "      <td>positive</td>\n",
       "      <td>one of the other reviewers has mentioned that ...</td>\n",
       "      <td>[one, reviewers, mentioned, watching, oz, epis...</td>\n",
       "      <td>one review mention watch oz episod hook right ...</td>\n",
       "      <td>one reviewers mention watch oz episode hook ri...</td>\n",
       "    </tr>\n",
       "    <tr>\n",
       "      <th>1</th>\n",
       "      <td>A wonderful little production. &lt;br /&gt;&lt;br /&gt;The...</td>\n",
       "      <td>positive</td>\n",
       "      <td>a wonderful little production br br the filmin...</td>\n",
       "      <td>[wonderful, little, production, br, br, filmin...</td>\n",
       "      <td>wonder littl product br br film techniqu unass...</td>\n",
       "      <td>wonderful little production br br film techniq...</td>\n",
       "    </tr>\n",
       "    <tr>\n",
       "      <th>2</th>\n",
       "      <td>I thought this was a wonderful way to spend ti...</td>\n",
       "      <td>positive</td>\n",
       "      <td>i thought this was a wonderful way to spend ti...</td>\n",
       "      <td>[thought, wonderful, way, spend, time, hot, su...</td>\n",
       "      <td>thought wonder way spend time hot summer weeke...</td>\n",
       "      <td>think wonderful way spend time hot summer week...</td>\n",
       "    </tr>\n",
       "    <tr>\n",
       "      <th>3</th>\n",
       "      <td>Basically there's a family where a little boy ...</td>\n",
       "      <td>negative</td>\n",
       "      <td>basically there s a family where a little boy ...</td>\n",
       "      <td>[basically, family, little, boy, jake, thinks,...</td>\n",
       "      <td>basic famili littl boy jake think zombi closet...</td>\n",
       "      <td>basically family little boy jake think zombie ...</td>\n",
       "    </tr>\n",
       "    <tr>\n",
       "      <th>4</th>\n",
       "      <td>Petter Mattei's \"Love in the Time of Money\" is...</td>\n",
       "      <td>positive</td>\n",
       "      <td>petter mattei s love in the time of money is a...</td>\n",
       "      <td>[petter, mattei, love, time, money, visually, ...</td>\n",
       "      <td>petter mattei love time money visual stun film...</td>\n",
       "      <td>petter mattei love time money visually stun fi...</td>\n",
       "    </tr>\n",
       "  </tbody>\n",
       "</table>\n",
       "</div>"
      ],
      "text/plain": [
       "                                              review sentiment  \\\n",
       "0  One of the other reviewers has mentioned that ...  positive   \n",
       "1  A wonderful little production. <br /><br />The...  positive   \n",
       "2  I thought this was a wonderful way to spend ti...  positive   \n",
       "3  Basically there's a family where a little boy ...  negative   \n",
       "4  Petter Mattei's \"Love in the Time of Money\" is...  positive   \n",
       "\n",
       "                                        clean_review  \\\n",
       "0  one of the other reviewers has mentioned that ...   \n",
       "1  a wonderful little production br br the filmin...   \n",
       "2  i thought this was a wonderful way to spend ti...   \n",
       "3  basically there s a family where a little boy ...   \n",
       "4  petter mattei s love in the time of money is a...   \n",
       "\n",
       "                                        review_token  \\\n",
       "0  [one, reviewers, mentioned, watching, oz, epis...   \n",
       "1  [wonderful, little, production, br, br, filmin...   \n",
       "2  [thought, wonderful, way, spend, time, hot, su...   \n",
       "3  [basically, family, little, boy, jake, thinks,...   \n",
       "4  [petter, mattei, love, time, money, visually, ...   \n",
       "\n",
       "                                           stem_text  \\\n",
       "0  one review mention watch oz episod hook right ...   \n",
       "1  wonder littl product br br film techniqu unass...   \n",
       "2  thought wonder way spend time hot summer weeke...   \n",
       "3  basic famili littl boy jake think zombi closet...   \n",
       "4  petter mattei love time money visual stun film...   \n",
       "\n",
       "                                          lemma_text  \n",
       "0  one reviewers mention watch oz episode hook ri...  \n",
       "1  wonderful little production br br film techniq...  \n",
       "2  think wonderful way spend time hot summer week...  \n",
       "3  basically family little boy jake think zombie ...  \n",
       "4  petter mattei love time money visually stun fi...  "
      ]
     },
     "execution_count": 23,
     "metadata": {},
     "output_type": "execute_result"
    }
   ],
   "source": [
    "imbd_data.head()"
   ]
  },
  {
   "cell_type": "markdown",
   "metadata": {},
   "source": [
    "# Text Vector Generation\n",
    "\n",
    "\n",
    "## Bag of words"
   ]
  },
  {
   "cell_type": "code",
   "execution_count": 24,
   "metadata": {},
   "outputs": [
    {
     "data": {
      "text/plain": [
       "(10000, 34935)"
      ]
     },
     "execution_count": 24,
     "metadata": {},
     "output_type": "execute_result"
    }
   ],
   "source": [
    "from sklearn.feature_extraction.text import CountVectorizer\n",
    "imbd_vectorizer = CountVectorizer()\n",
    "\n",
    "imbd_features   = imbd_vectorizer.fit_transform(imbd_data['stem_text'])\n",
    "imbd_features.get_shape()"
   ]
  },
  {
   "cell_type": "markdown",
   "metadata": {},
   "source": [
    "### build a model on above feature"
   ]
  },
  {
   "cell_type": "code",
   "execution_count": 28,
   "metadata": {},
   "outputs": [
    {
     "name": "stdout",
     "output_type": "stream",
     "text": [
      "Training set : (7500, 34935)\n",
      "Testing set : (2500, 34935)\n",
      "Accuracy Score on train data:  1.0\n",
      "Accuracy Score on test data:  0.7068\n"
     ]
    }
   ],
   "source": [
    "X = imbd_features    #### Features\n",
    "y = imbd_data['sentiment']  #### Target\n",
    "\n",
    "#Using the train_test_split to create train and test sets.\n",
    "from sklearn.model_selection import train_test_split\n",
    "\n",
    "X_train, X_test, y_train, y_test = train_test_split(X, y, random_state = 47, test_size = 0.25)\n",
    "\n",
    "print('Training set :', X_train.shape)\n",
    "print('Testing set :', X_test.shape)\n",
    "\n",
    "#Importing the Decision tree classifier from the sklearn library.\n",
    "from sklearn.tree import DecisionTreeClassifier\n",
    "\n",
    "clf = DecisionTreeClassifier(criterion = 'entropy')\n",
    "\n",
    "\n",
    "#Training the decision tree classifier. \n",
    "clf.fit(X_train, y_train)\n",
    "\n",
    "#Predicting labels on the test set.\n",
    "y_pred =  clf.predict(X_test)\n",
    "\n",
    "#Importing the accuracy metric from sklearn.metrics library\n",
    "\n",
    "from sklearn.metrics import accuracy_score\n",
    "print('Accuracy Score on train data: ', accuracy_score(y_true=y_train, y_pred=clf.predict(X_train)))\n",
    "print('Accuracy Score on test data: ', accuracy_score(y_true=y_test, y_pred=y_pred))"
   ]
  },
  {
   "cell_type": "markdown",
   "metadata": {},
   "source": [
    "## TF IDF"
   ]
  },
  {
   "cell_type": "code",
   "execution_count": 25,
   "metadata": {},
   "outputs": [],
   "source": [
    "from sklearn.feature_extraction.text import TfidfVectorizer\n",
    "\n",
    "tfidf_imbd_vectorizer = TfidfVectorizer()\n",
    "tfidf_imbd_features = tfidf_imbd_vectorizer.fit_transform(imbd_data['stem_text'])\n"
   ]
  },
  {
   "cell_type": "code",
   "execution_count": 26,
   "metadata": {},
   "outputs": [
    {
     "data": {
      "text/plain": [
       "(10000, 34935)"
      ]
     },
     "execution_count": 26,
     "metadata": {},
     "output_type": "execute_result"
    }
   ],
   "source": [
    "tfidf_imbd_features.shape"
   ]
  },
  {
   "cell_type": "markdown",
   "metadata": {},
   "source": [
    "### build a model on above feature"
   ]
  },
  {
   "cell_type": "code",
   "execution_count": 27,
   "metadata": {},
   "outputs": [
    {
     "name": "stdout",
     "output_type": "stream",
     "text": [
      "Training set : (7500, 34935)\n",
      "Testing set : (2500, 34935)\n",
      "Accuracy Score on train data:  1.0\n",
      "Accuracy Score on test data:  0.7072\n"
     ]
    }
   ],
   "source": [
    "X = imbd_features    #### Features\n",
    "y = imbd_data['sentiment']  #### Target\n",
    "\n",
    "#Using the train_test_split to create train and test sets.\n",
    "from sklearn.model_selection import train_test_split\n",
    "\n",
    "X_train, X_test, y_train, y_test = train_test_split(X, y, random_state = 47, test_size = 0.25)\n",
    "\n",
    "print('Training set :', X_train.shape)\n",
    "print('Testing set :', X_test.shape)\n",
    "\n",
    "#Importing the Decision tree classifier from the sklearn library.\n",
    "from sklearn.tree import DecisionTreeClassifier\n",
    "\n",
    "clf = DecisionTreeClassifier(criterion = 'entropy')\n",
    "\n",
    "#Training the decision tree classifier. \n",
    "clf.fit(X_train, y_train)\n",
    "\n",
    "#Predicting labels on the test set.\n",
    "y_pred =  clf.predict(X_test)\n",
    "\n",
    "#Importing the accuracy metric from sklearn.metrics library\n",
    "\n",
    "from sklearn.metrics import accuracy_score\n",
    "print('Accuracy Score on train data: ', accuracy_score(y_true=y_train, y_pred=clf.predict(X_train)))\n",
    "print('Accuracy Score on test data: ', accuracy_score(y_true=y_test, y_pred=y_pred))"
   ]
  },
  {
   "cell_type": "code",
   "execution_count": null,
   "metadata": {},
   "outputs": [],
   "source": []
  }
 ],
 "metadata": {
  "kernelspec": {
   "display_name": "Python 3",
   "language": "python",
   "name": "python3"
  },
  "language_info": {
   "codemirror_mode": {
    "name": "ipython",
    "version": 3
   },
   "file_extension": ".py",
   "mimetype": "text/x-python",
   "name": "python",
   "nbconvert_exporter": "python",
   "pygments_lexer": "ipython3",
   "version": "3.7.0"
  }
 },
 "nbformat": 4,
 "nbformat_minor": 2
}
